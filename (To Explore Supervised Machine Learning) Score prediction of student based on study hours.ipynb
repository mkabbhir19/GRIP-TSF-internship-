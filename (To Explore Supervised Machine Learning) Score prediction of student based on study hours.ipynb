{
 "cells": [
  {
   "cell_type": "code",
   "execution_count": 2,
   "metadata": {},
   "outputs": [],
   "source": [
    "import pandas as pd\n",
    "import numpy as np\n",
    "from matplotlib import pyplot as plt\n",
    "from sklearn.linear_model import LinearRegression\n",
    "from sklearn.model_selection import train_test_split"
   ]
  },
  {
   "cell_type": "code",
   "execution_count": 3,
   "metadata": {},
   "outputs": [
    {
     "name": "stdout",
     "output_type": "stream",
     "text": [
      "Index(['Hours', 'Scores'], dtype='object')\n",
      "   Hours  Scores\n",
      "0    2.5      21\n",
      "1    5.1      47\n",
      "2    3.2      27\n",
      "3    8.5      75\n",
      "4    3.5      30\n"
     ]
    }
   ],
   "source": [
    "#importing the dataset\n",
    "df = pd.read_csv('https://raw.githubusercontent.com/AdiPersonalWorks/Random/master/student_scores%20-%20student_scores.csv',header = 0)\n",
    "print(df.columns)\n",
    "print(df.head(5))"
   ]
  },
  {
   "cell_type": "code",
   "execution_count": 5,
   "metadata": {},
   "outputs": [
    {
     "name": "stdout",
     "output_type": "stream",
     "text": [
      "[[92.90985477]]\n",
      "[[9.77580339]]\n",
      "[2.48367341]\n"
     ]
    }
   ],
   "source": [
    "#this model is trained without splitting the data into test set and train set\n",
    "#separating the dataset into X and y\n",
    "x = df['Hours']\n",
    "y = df['Scores']\n",
    "#reshaping the data since only there is only single target variable and training data\n",
    "x = np.array(x).reshape(-1, 1) \n",
    "y = np.array(y).reshape(-1, 1) \n",
    "#print(x.head(5))\n",
    "#print(y.head(5))\n",
    " #creating the model\n",
    "model1 = LinearRegression()\n",
    "# fitting the data to the model\n",
    "model1.fit(x,y)\n",
    "#predicting the model\n",
    "predict1 = model1.predict(np.array([9.25]).reshape(-1,1))\n",
    "print(predict1)\n",
    "print(model1.coef_)\n",
    "print(model1.intercept_)\n"
   ]
  },
  {
   "cell_type": "code",
   "execution_count": null,
   "metadata": {},
   "outputs": [],
   "source": [
    "plt.figure(figsize=(12,12))\n",
    "ax = plt.subplot()\n",
    "plt.scatter(x,y,marker= 'o',label =df.columns)\n",
    "plt.scatter(np.array([9.25]).reshape(-1,1),predict1,color ='red')\n",
    "ax.set_xticks(range(1,11))\n",
    "ax.set_yticks(range(0,101,5))\n",
    "\n",
    "plt.show()"
   ]
  },
  {
   "cell_type": "code",
   "execution_count": null,
   "metadata": {},
   "outputs": [],
   "source": [
    "x_train,x_test,y_train,y_test = train_test_split(x,y,train_size= 0.8,test_size =0.2,random_state =1,shuffle =True)\n"
   ]
  },
  {
   "cell_type": "code",
   "execution_count": null,
   "metadata": {},
   "outputs": [],
   "source": [
    "model2 = LinearRegression()\n",
    "# fitting the data to the model\n",
    "model2.fit(x_train,y_train)\n",
    "#predicting the model\n",
    "predict2 = model2.predict(x_test)\n",
    "prediction = model2.predict(np.array([9.25]).reshape(-1,1))\n",
    "#print(predict2)\n",
    "print(model2.score(x_test,y_test))\n",
    "print(prediction)"
   ]
  },
  {
   "cell_type": "code",
   "execution_count": null,
   "metadata": {},
   "outputs": [],
   "source": [
    "plt.figure(figsize=(12,12))\n",
    "ax = plt.subplot()\n",
    "plt.scatter(x,y,marker= 'o',label =df.columns)\n",
    "plt.plot(x_test,predict2,color='red')\n",
    "plt.scatter(np.array([9.25]).reshape(-1,1),prediction,color ='green')\n",
    "plt.scatter(np.array([9.25]).reshape(-1,1),predict1,color ='black')\n",
    "\n",
    "ax.set_xticks(range(1,11))\n",
    "ax.set_yticks(range(0,101,5))\n",
    "\n",
    "plt.show()"
   ]
  },
  {
   "cell_type": "code",
   "execution_count": null,
   "metadata": {},
   "outputs": [],
   "source": []
  }
 ],
 "metadata": {
  "kernelspec": {
   "display_name": "Python 3",
   "language": "python",
   "name": "python3"
  },
  "language_info": {
   "codemirror_mode": {
    "name": "ipython",
    "version": 3
   },
   "file_extension": ".py",
   "mimetype": "text/x-python",
   "name": "python",
   "nbconvert_exporter": "python",
   "pygments_lexer": "ipython3",
   "version": "3.7.1"
  }
 },
 "nbformat": 4,
 "nbformat_minor": 2
}
